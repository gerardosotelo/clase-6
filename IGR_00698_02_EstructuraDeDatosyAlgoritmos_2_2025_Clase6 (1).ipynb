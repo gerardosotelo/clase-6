{
  "cells": [
    {
      "cell_type": "markdown",
      "source": [
        "---\n",
        "---\n",
        "\n",
        "# Clase 6 — TAD **Lista**, **Stack** y **Queue**\n",
        "\n",
        "\n",
        "**IGR-00698-02 Estructura De Datos y Algoritmos**\n",
        "\n",
        "**Astrid E. San Martín J.**\n",
        "\n",
        "**Universidad Santo Tomás**\n",
        "\n",
        "**Facultad de Ingeniería**\n",
        "\n",
        "**asanmartin9@santotomas.cl**\n",
        "\n",
        "**Fecha:** 05-09-2025  \n",
        "\n",
        "---\n",
        "---"
      ],
      "metadata": {
        "id": "Zzi186QmQdzv"
      },
      "id": "Zzi186QmQdzv"
    },
    {
      "cell_type": "markdown",
      "source": [
        "---\n",
        "\n",
        "## Github Classroom Clase 6\n",
        "\n",
        "---\n",
        "\n",
        "[https://classroom.github.com/a/YyHAqfRq](https://classroom.github.com/a/YyHAqfRq)"
      ],
      "metadata": {
        "id": "i7O2VTN1o6K7"
      },
      "id": "i7O2VTN1o6K7"
    },
    {
      "cell_type": "markdown",
      "id": "ac1b29e8",
      "metadata": {
        "id": "ac1b29e8"
      },
      "source": [
        "---\n",
        "\n",
        "# Objetivos de aprendizaje\n",
        "\n",
        "---\n",
        "\n",
        "Al finalizar esta actividad, podrás:\n",
        "1. **Explicar** qué es un **Tipo Abstracto de Dato (TAD)** y diferenciarlo de su **implementación**.\n",
        "2. **Implementar** operaciones esenciales de una **Lista**, un **Stack (LIFO)** y una **Queue (FIFO)** respetando sus invariantes.\n",
        "3. **Aplicar** estos TADs en situaciones **reales**:\n",
        "   - Lista: gestión de **playlist** de una radio.\n",
        "   - Stack: **deshacer/rehacer** en un editor de texto.\n",
        "   - Queue: atención de **tickets** de mesa de ayuda (soporte).\n",
        "4. **Verificar** tus implementaciones con **tests** y **razonar** sobre su eficiencia a nivel conceptual.\n",
        "\n",
        "\n"
      ]
    },
    {
      "cell_type": "markdown",
      "id": "abbf64e6",
      "metadata": {
        "id": "abbf64e6"
      },
      "source": [
        "\n",
        "---\n",
        "\n",
        "# Contexto\n",
        "\n",
        "---\n",
        "\n",
        "Construir **tres micro-simuladores** usando TADs fundamentales:\n",
        "\n",
        "1. **Playlist de Radio (TAD Lista)**  \n",
        "   Diseñar una lista que permita **insertar, eliminar, acceder y buscar** canciones.  \n",
        "   Funcionalidades clave:\n",
        "   - `append(x)`, `insert(i, x)`, `remove(i)`, `get(i)`, `set(i, x)`, `size()`\n",
        "   - Búsqueda por **subcadena** en título o artista.\n",
        "   - Operación de **mover** una canción de una posición a otra.\n",
        "\n",
        "2. **Editor de Texto con Undo/Redo (TAD Stack, LIFO)**  \n",
        "   Implementar dos **stacks** para simular operaciones de **escritura**, **borrado**, **deshacer** y **rehacer**.  \n",
        "   Funcionalidades clave:\n",
        "   - `push(x)`, `pop()`, `peek()`, `is_empty()`, `size()`\n",
        "   - Operaciones del editor: `type(text)`, `delete(k)`, `undo()`, `redo()`\n",
        "\n",
        "3. **Soporte Técnico FCFS (TAD Queue, FIFO)**  \n",
        "   Implementar una **cola circular** para gestionar **tickets** por **orden de llegada**.  \n",
        "   Funcionalidades clave:\n",
        "   - `enqueue(x)`, `dequeue()`, `front()`, `is_empty()`, `size()`\n",
        "   - Métricas: **orden de atención** y **tiempo de espera promedio** (simulado).\n",
        "\n",
        "\n",
        "**Restricciones y Recomendaciones**\n",
        "- No utilizar librerías externas. Sólo **Python estándar**.\n",
        "- Los bloques marcados con **`# TODO`** son para ser completados.\n",
        "- Ejecutar los **tests** provistos. Si un test falla, revisar la implementación.\n",
        "- Al final, reflexionar sobre **qué TAD** elegirías para un problema dado y **por qué**.\n",
        "- Asegurar de que todos los **tests** básicos pasen.\n",
        "- Agregar ejemplos propios o casos borde que se considere importantes.\n",
        "- Incluir **comentario** (3–5 líneas) justificando decisiones de diseño en cada paso.\n",
        "\n",
        "> **Hint**: Usar `assert` y `try/except` localmente para crear mini-tests propios.\n"
      ]
    },
    {
      "cell_type": "markdown",
      "id": "215454a7",
      "metadata": {
        "id": "215454a7"
      },
      "source": [
        "\n",
        "---\n",
        "\n",
        "## Utilidades para testing\n",
        "\n",
        "---\n",
        "\n",
        "Ejecutar esta celda para tener utilidades simples de test.\n"
      ]
    },
    {
      "cell_type": "code",
      "execution_count": null,
      "id": "248866a1",
      "metadata": {
        "id": "248866a1"
      },
      "outputs": [],
      "source": [
        "def ok(msg=\"OK\"):\n",
        "    print(\"✅\", msg)\n",
        "\n",
        "def fail(msg=\"Fallo\"):\n",
        "    raise AssertionError(msg)\n"
      ]
    },
    {
      "cell_type": "markdown",
      "id": "367717cb",
      "metadata": {
        "id": "367717cb"
      },
      "source": [
        "\n",
        "---\n",
        "\n",
        "# Problema 1 — **TAD Lista**: Playlist de una radio\n",
        "\n",
        "---\n",
        "\n",
        "**Contexto**: una radio necesita gestionar una **playlist**: agregar canciones, insertar en posiciones\n",
        "específicas, eliminar, mover y buscar por título/artista.\n",
        "\n",
        "### Requisitos del TAD (interfaz)\n",
        "- `append(x)` agrega al final\n",
        "- `insert(i, x)` inserta en índice `i` desplazando a la derecha\n",
        "- `remove(i)` elimina y retorna el elemento en `i`\n",
        "- `get(i)` retorna el elemento en `i`\n",
        "- `set(i, x)` reemplaza el elemento en `i` por `x`\n",
        "- `size()` retorna el tamaño actual\n",
        "\n",
        "### Invariante\n",
        "- Los índices válidos están en `0 <= i < size()` para `get/remove/set`.\n",
        "- Para `insert`, se permite `0 <= i <= size()`.\n"
      ]
    },
    {
      "cell_type": "markdown",
      "source": [
        "* Crear una nueva lista vacía"
      ],
      "metadata": {
        "id": "ocMesFPRfjvC"
      },
      "id": "ocMesFPRfjvC"
    },
    {
      "cell_type": "code",
      "execution_count": null,
      "id": "1907faf1",
      "metadata": {
        "id": "1907faf1"
      },
      "outputs": [],
      "source": [
        "def list_new():\n",
        "    return {\"a\": []}\n"
      ]
    },
    {
      "cell_type": "markdown",
      "source": [
        "* Retornar el tamaño actual"
      ],
      "metadata": {
        "id": "50FLX0pvfrEg"
      },
      "id": "50FLX0pvfrEg"
    },
    {
      "cell_type": "code",
      "source": [
        "def list_size(L):\n",
        "    return len(L[\"a\"])"
      ],
      "metadata": {
        "id": "1dsCpM4EevbJ"
      },
      "id": "1dsCpM4EevbJ",
      "execution_count": null,
      "outputs": []
    },
    {
      "cell_type": "markdown",
      "source": [
        "* Agregar x al final. O(1) amortizado"
      ],
      "metadata": {
        "id": "bC_oQs85fuQD"
      },
      "id": "bC_oQs85fuQD"
    },
    {
      "cell_type": "code",
      "source": [
        "def list_append(L, x):\n",
        "    # TODO: implementar\n",
        "    pass"
      ],
      "metadata": {
        "id": "x5mM1aS5evra"
      },
      "id": "x5mM1aS5evra",
      "execution_count": null,
      "outputs": []
    },
    {
      "cell_type": "markdown",
      "source": [
        "* Insertar x en la posición i (0..size). O(n) en el peor caso"
      ],
      "metadata": {
        "id": "SoACF3lsfxHK"
      },
      "id": "SoACF3lsfxHK"
    },
    {
      "cell_type": "code",
      "source": [
        "def list_insert(L, i, x):\n",
        "    # TODO: implementar validación de i y la inserción\n",
        "    pass"
      ],
      "metadata": {
        "id": "HMmcS0DuewWy"
      },
      "id": "HMmcS0DuewWy",
      "execution_count": null,
      "outputs": []
    },
    {
      "cell_type": "markdown",
      "source": [
        "* Eliminar y retornar el elemento en i. O(n) en el peor caso"
      ],
      "metadata": {
        "id": "2v7WiWXRf2_Z"
      },
      "id": "2v7WiWXRf2_Z"
    },
    {
      "cell_type": "code",
      "source": [
        "def list_remove(L, i):\n",
        "    # TODO: validar i, guardar valor, desplazar y retornar\n",
        "    pass"
      ],
      "metadata": {
        "id": "UiqIxyAaewjj"
      },
      "id": "UiqIxyAaewjj",
      "execution_count": null,
      "outputs": []
    },
    {
      "cell_type": "markdown",
      "source": [
        "* Retornar el elemento en i. O(1)"
      ],
      "metadata": {
        "id": "QeXRLdXBf7sU"
      },
      "id": "QeXRLdXBf7sU"
    },
    {
      "cell_type": "code",
      "source": [
        "def list_get(L, i):\n",
        "    # TODO: validar i y retornar\n",
        "    pass\n"
      ],
      "metadata": {
        "id": "dcfw8afkewwj"
      },
      "id": "dcfw8afkewwj",
      "execution_count": null,
      "outputs": []
    },
    {
      "cell_type": "markdown",
      "source": [
        "* Reemplazar el elemento en i por x y retorna el valor anterior. O(1)."
      ],
      "metadata": {
        "id": "8LRTaJEffajV"
      },
      "id": "8LRTaJEffajV"
    },
    {
      "cell_type": "code",
      "source": [
        "def list_set(L, i, x):\n",
        "    # TODO: validar i y reemplazar\n",
        "    pass"
      ],
      "metadata": {
        "id": "EO9kY-Fwew9F"
      },
      "id": "EO9kY-Fwew9F",
      "execution_count": null,
      "outputs": []
    },
    {
      "cell_type": "markdown",
      "source": [
        "---------- Utilidades de la playlist (extras) ----------"
      ],
      "metadata": {
        "id": "ieL37H4hfS7T"
      },
      "id": "ieL37H4hfS7T"
    },
    {
      "cell_type": "markdown",
      "source": [
        "* Retornar una lista de índices donde el título o artista contienen la subcadena (case-insensitive).\n",
        "    Suponer canciones como dict: {\"titulo\": str, \"artista\": str, \"duracion_seg\": int}"
      ],
      "metadata": {
        "id": "Lyc-UEwGfIWN"
      },
      "id": "Lyc-UEwGfIWN"
    },
    {
      "cell_type": "code",
      "source": [
        "def list_find_substring(L, substring):\n",
        "    # TODO: implementar búsqueda\n",
        "    pass"
      ],
      "metadata": {
        "id": "fiwDZLD0exHv"
      },
      "id": "fiwDZLD0exHv",
      "execution_count": null,
      "outputs": []
    },
    {
      "cell_type": "markdown",
      "source": [
        "* Mover el elemento en from_i a la posición to_i (misma invariante que insert).\n"
      ],
      "metadata": {
        "id": "5B2swfxpe40c"
      },
      "id": "5B2swfxpe40c"
    },
    {
      "cell_type": "code",
      "source": [
        "def list_move(L, from_i, to_i):\n",
        "    # TODO: implementar mover (eliminar y reinsertar)\n",
        "    pass\n"
      ],
      "metadata": {
        "id": "PXQPy5o7exV5"
      },
      "id": "PXQPy5o7exV5",
      "execution_count": null,
      "outputs": []
    },
    {
      "cell_type": "markdown",
      "source": [
        "---------- Uso ----------\n"
      ],
      "metadata": {
        "id": "u5zLY2KjfD3r"
      },
      "id": "u5zLY2KjfD3r"
    },
    {
      "cell_type": "markdown",
      "source": [
        "* playlist \"vacía\""
      ],
      "metadata": {
        "id": "NPiRQpXtgt2I"
      },
      "id": "NPiRQpXtgt2I"
    },
    {
      "cell_type": "code",
      "execution_count": null,
      "id": "624c3e30",
      "metadata": {
        "id": "624c3e30"
      },
      "outputs": [],
      "source": [
        "playlist = list_new()\n"
      ]
    },
    {
      "cell_type": "markdown",
      "source": [
        "* Datos de ejemplo"
      ],
      "metadata": {
        "id": "Zlv-_U5hgz9D"
      },
      "id": "Zlv-_U5hgz9D"
    },
    {
      "cell_type": "code",
      "source": [
        "canciones = [\n",
        "    {\"titulo\": \"Lluvia Dorada\", \"artista\": \"Aurora Norte\", \"duracion_seg\": 210},\n",
        "    {\"titulo\": \"Minería de Sonidos\", \"artista\": \"Cuprum Band\", \"duracion_seg\": 185},\n",
        "    {\"titulo\": \"Estrellas y Quasares\", \"artista\": \"SkyLab\", \"duracion_seg\": 240},\n",
        "    {\"titulo\": \"Algoritmo del Amor\", \"artista\": \"Smart Systems\", \"duracion_seg\": 200},\n",
        "]\n"
      ],
      "metadata": {
        "id": "Sg3MK-WugRno"
      },
      "id": "Sg3MK-WugRno",
      "execution_count": null,
      "outputs": []
    },
    {
      "cell_type": "markdown",
      "source": [
        "* append"
      ],
      "metadata": {
        "id": "E0gtLj7Zg44C"
      },
      "id": "E0gtLj7Zg44C"
    },
    {
      "cell_type": "code",
      "source": [
        "for c in canciones:\n",
        "    try:\n",
        "        list_append(playlist, c)\n",
        "    except NotImplementedError:\n",
        "        fail(\"append no implementado\")\n",
        "ok(\"append básico\")\n"
      ],
      "metadata": {
        "id": "AXdZDVbSgR9r"
      },
      "id": "AXdZDVbSgR9r",
      "execution_count": null,
      "outputs": []
    },
    {
      "cell_type": "markdown",
      "source": [
        "* size"
      ],
      "metadata": {
        "id": "fpfoClUug-8u"
      },
      "id": "fpfoClUug-8u"
    },
    {
      "cell_type": "code",
      "source": [
        "if list_size(playlist) != 4:\n",
        "    fail(\"size debería ser 4\")\n",
        "ok(\"size OK\")\n"
      ],
      "metadata": {
        "id": "NLsdnMyggSQK"
      },
      "id": "NLsdnMyggSQK",
      "execution_count": null,
      "outputs": []
    },
    {
      "cell_type": "markdown",
      "source": [
        "* get/set"
      ],
      "metadata": {
        "id": "DazAsyp4hBxt"
      },
      "id": "DazAsyp4hBxt"
    },
    {
      "cell_type": "code",
      "source": [
        "try:\n",
        "    t0 = list_get(playlist, 0)\n",
        "    old = list_set(playlist, 1, {\"titulo\": \"Minería de Datos\", \"artista\": \"Cuprum Band\", \"duracion_seg\": 185})\n",
        "except Exception as e:\n",
        "    fail(f\"get/set fallaron: {e}\")\n",
        "ok(\"get/set OK\")\n"
      ],
      "metadata": {
        "id": "Yid567fQgSau"
      },
      "id": "Yid567fQgSau",
      "execution_count": null,
      "outputs": []
    },
    {
      "cell_type": "markdown",
      "source": [
        "* insert al inicio y al final"
      ],
      "metadata": {
        "id": "pykE3xWehF2x"
      },
      "id": "pykE3xWehF2x"
    },
    {
      "cell_type": "code",
      "source": [
        "try:\n",
        "    list_insert(playlist, 0, {\"titulo\": \"Intro Jingle\", \"artista\": \"Radial FX\", \"duracion_seg\": 8})\n",
        "    list_insert(playlist, list_size(playlist), {\"titulo\": \"Cierre\", \"artista\": \"Radial FX\", \"duracion_seg\": 10})\n",
        "except Exception as e:\n",
        "    fail(f\"insert falló: {e}\")\n",
        "ok(\"insert en extremos OK\")\n"
      ],
      "metadata": {
        "id": "YOXmvlHJgS2T"
      },
      "id": "YOXmvlHJgS2T",
      "execution_count": null,
      "outputs": []
    },
    {
      "cell_type": "markdown",
      "source": [
        "* remove (intermedio)"
      ],
      "metadata": {
        "id": "OvBa9tPchK7P"
      },
      "id": "OvBa9tPchK7P"
    },
    {
      "cell_type": "code",
      "source": [
        "\n",
        "try:\n",
        "    removed = list_remove(playlist, 2)\n",
        "except Exception as e:\n",
        "    fail(f\"remove falló: {e}\")\n",
        "ok(\"remove OK\")\n"
      ],
      "metadata": {
        "id": "NvUV7bLMgTEX"
      },
      "id": "NvUV7bLMgTEX",
      "execution_count": null,
      "outputs": []
    },
    {
      "cell_type": "markdown",
      "source": [
        "* búsqueda por subcadena\n",
        "\n",
        "Debe encontrar \"Minería de Sonidos\" (índice puede variar según inserciones/remociones previas)"
      ],
      "metadata": {
        "id": "Lrst8OiVhP8B"
      },
      "id": "Lrst8OiVhP8B"
    },
    {
      "cell_type": "code",
      "source": [
        "try:\n",
        "    hits = list_find_substring(playlist, \"datos\")\n",
        "\n",
        "    if not isinstance(hits, list):\n",
        "        fail(\"find_substring debe retornar lista de índices\")\n",
        "except Exception as e:\n",
        "    fail(f\"find_substring falló: {e}\")\n",
        "ok(\"find_substring OK (básico)\")\n"
      ],
      "metadata": {
        "id": "ZR07olblgTVn"
      },
      "id": "ZR07olblgTVn",
      "execution_count": null,
      "outputs": []
    },
    {
      "cell_type": "markdown",
      "source": [
        "* mover elementos"
      ],
      "metadata": {
        "id": "s5_YD0ithh6S"
      },
      "id": "s5_YD0ithh6S"
    },
    {
      "cell_type": "code",
      "source": [
        "\n",
        "try:\n",
        "    n = list_size(playlist)\n",
        "    list_move(playlist, 0, n-1)  # mueve el primero al final\n",
        "except Exception as e:\n",
        "    fail(f\"move falló: {e}\")\n",
        "ok(\"move OK (básico)\")\n",
        "\n",
        "print(\"🎵 Tests de Playlist (versión sin OOP) completados (si no hubo excepciones).\")\n"
      ],
      "metadata": {
        "id": "dJcT8GN3gTj3"
      },
      "id": "dJcT8GN3gTj3",
      "execution_count": null,
      "outputs": []
    },
    {
      "cell_type": "markdown",
      "id": "1e6ab3c9",
      "metadata": {
        "id": "1e6ab3c9"
      },
      "source": [
        "\n",
        "---\n",
        "\n",
        "# Problema 2 — **TAD Stack (LIFO)**: Editor con Undo/Redo\n",
        "\n",
        "---\n",
        "\n",
        "**Contexto**: un editor de texto mantiene dos **pilas**: una para deshacer (undo) y otra para rehacer (redo).\n",
        "\n",
        "### Requisitos del TAD Stack\n",
        "- `push(x)`, `pop()`, `peek()`, `is_empty()`, `size()`\n",
        "\n",
        "### Especificación del Editor\n",
        "- `type(text)`: agrega `text` al final del buffer de edición, y registra acción para `undo`.\n",
        "- `delete(k)`: elimina los últimos `k` caracteres, y registra acción para `undo`.\n",
        "- `undo()`: revierte la última acción (mueve registro a pila `redo`).\n",
        "- `redo()`: reaplica lo último deshecho (mueve registro de `redo` a `undo`).\n",
        "\n",
        "> **Nota**: No usar listas como pila con `pop(0)`. Siempre `append`/`pop()` sobre el final para O(1) amortizado.\n"
      ]
    },
    {
      "cell_type": "markdown",
      "source": [
        "* Crea una nueva pila vacía"
      ],
      "metadata": {
        "id": "RsLOocn-lTXZ"
      },
      "id": "RsLOocn-lTXZ"
    },
    {
      "cell_type": "code",
      "execution_count": null,
      "id": "3eece3ba",
      "metadata": {
        "id": "3eece3ba"
      },
      "outputs": [],
      "source": [
        "def stack_new():\n",
        "    return {\"a\": []}\n"
      ]
    },
    {
      "cell_type": "code",
      "source": [
        "def stack_push(S, x):\n",
        "    # TODO: O(1) amortizado\n",
        "    pass\n"
      ],
      "metadata": {
        "id": "9LmsJ-KFk2ms"
      },
      "id": "9LmsJ-KFk2ms",
      "execution_count": null,
      "outputs": []
    },
    {
      "cell_type": "markdown",
      "source": [
        "* Debe fallar (IndexError) si está vacía"
      ],
      "metadata": {
        "id": "qjyhYHTYlJ-j"
      },
      "id": "qjyhYHTYlJ-j"
    },
    {
      "cell_type": "code",
      "source": [
        "def stack_pop(S):\n",
        "    # TODO\n",
        "    pass\n"
      ],
      "metadata": {
        "id": "7SKhVgNjk3ID"
      },
      "id": "7SKhVgNjk3ID",
      "execution_count": null,
      "outputs": []
    },
    {
      "cell_type": "markdown",
      "source": [
        "* Retorna el tope sin remover (o None si está vacía)"
      ],
      "metadata": {
        "id": "KHxGldiclBrl"
      },
      "id": "KHxGldiclBrl"
    },
    {
      "cell_type": "code",
      "source": [
        "def stack_peek(S):\n",
        "    # TODO\n",
        "    pass\n"
      ],
      "metadata": {
        "id": "kFSl9YrJk3yG"
      },
      "id": "kFSl9YrJk3yG",
      "execution_count": null,
      "outputs": []
    },
    {
      "cell_type": "code",
      "source": [
        "def stack_is_empty(S):\n",
        "    # TODO\n",
        "    pass\n"
      ],
      "metadata": {
        "id": "QTr42k85k4UB"
      },
      "id": "QTr42k85k4UB",
      "execution_count": null,
      "outputs": []
    },
    {
      "cell_type": "code",
      "source": [
        "def stack_size(S):\n",
        "    # TODO\n",
        "    pass\n"
      ],
      "metadata": {
        "id": "ht_BcKX_k4x5"
      },
      "id": "ht_BcKX_k4x5",
      "execution_count": null,
      "outputs": []
    },
    {
      "cell_type": "markdown",
      "source": [
        "* Editor con buffer vacío y dos pilas (undo/redo)"
      ],
      "metadata": {
        "id": "ePRwDR29m3lX"
      },
      "id": "ePRwDR29m3lX"
    },
    {
      "cell_type": "code",
      "source": [
        "def editor_new():\n",
        "    return {\"buffer\": \"\", \"undo\": stack_new(), \"redo\": stack_new()}\n"
      ],
      "metadata": {
        "id": "4P8ocIxLmjo1"
      },
      "id": "4P8ocIxLmjo1",
      "execution_count": null,
      "outputs": []
    },
    {
      "cell_type": "markdown",
      "source": [
        "* Agrega texto al final del buffer. Registra en undo. Limpia redo"
      ],
      "metadata": {
        "id": "dUHSa4o6m-da"
      },
      "id": "dUHSa4o6m-da"
    },
    {
      "cell_type": "code",
      "source": [
        "def editor_type(ED, text: str):\n",
        "    # TODO\n",
        "    pass\n"
      ],
      "metadata": {
        "id": "pCucdmvDmmlm"
      },
      "id": "pCucdmvDmmlm",
      "execution_count": null,
      "outputs": []
    },
    {
      "cell_type": "markdown",
      "source": [
        "* Elimina los últimos k caracteres (o menos si no hay). Registra en undo. Limpia redo"
      ],
      "metadata": {
        "id": "nnkLF5R3nD9i"
      },
      "id": "nnkLF5R3nD9i"
    },
    {
      "cell_type": "code",
      "source": [
        "def editor_delete(ED, k: int):\n",
        "    # TODO\n",
        "    pass\n"
      ],
      "metadata": {
        "id": "M2RekAvMmnJf"
      },
      "id": "M2RekAvMmnJf",
      "execution_count": null,
      "outputs": []
    },
    {
      "cell_type": "markdown",
      "source": [
        "* Revierte la última acción (mueve registro a pila redo)"
      ],
      "metadata": {
        "id": "GKjTGagrnMnj"
      },
      "id": "GKjTGagrnMnj"
    },
    {
      "cell_type": "code",
      "source": [
        "def editor_undo(ED):\n",
        "    # TODO\n",
        "    pass\n"
      ],
      "metadata": {
        "id": "lxB4a3Hvmnt9"
      },
      "id": "lxB4a3Hvmnt9",
      "execution_count": null,
      "outputs": []
    },
    {
      "cell_type": "markdown",
      "source": [
        "* Reaplica lo último deshecho (mueve registro de redo a undo)"
      ],
      "metadata": {
        "id": "iIPd3Pb4nSoy"
      },
      "id": "iIPd3Pb4nSoy"
    },
    {
      "cell_type": "code",
      "source": [
        "def editor_redo(ED):\n",
        "    # TODO\n",
        "    pass\n"
      ],
      "metadata": {
        "id": "qEr5S9jYmpmb"
      },
      "id": "qEr5S9jYmpmb",
      "execution_count": null,
      "outputs": []
    },
    {
      "cell_type": "markdown",
      "source": [
        "* Tests del Editor con stacks"
      ],
      "metadata": {
        "id": "E-XQmJJPlv2K"
      },
      "id": "E-XQmJJPlv2K"
    },
    {
      "cell_type": "code",
      "execution_count": null,
      "id": "f13bcd98",
      "metadata": {
        "id": "f13bcd98"
      },
      "outputs": [],
      "source": [
        "ed = editor_new()\n"
      ]
    },
    {
      "cell_type": "markdown",
      "source": [
        "* escribir"
      ],
      "metadata": {
        "id": "sYdA4Xnklz3_"
      },
      "id": "sYdA4Xnklz3_"
    },
    {
      "cell_type": "code",
      "source": [
        "editor_type(ed, \"Hola\")\n",
        "editor_type(ed, \" mundo\")\n",
        "if ed[\"buffer\"] != \"Hola mundo\":\n",
        "    fail(\"type no funciona correctamente\")\n",
        "ok(\"type OK\")\n"
      ],
      "metadata": {
        "id": "4HltLHPglfOy"
      },
      "id": "4HltLHPglfOy",
      "execution_count": null,
      "outputs": []
    },
    {
      "cell_type": "markdown",
      "source": [
        "* borrar"
      ],
      "metadata": {
        "id": "Y-QaX0AQl5cG"
      },
      "id": "Y-QaX0AQl5cG"
    },
    {
      "cell_type": "code",
      "source": [
        "editor_delete(ed, 6)  # borra \" mundo\"\n",
        "if ed[\"buffer\"] != \"Hola\":\n",
        "    fail(\"delete no funciona correctamente\")\n",
        "ok(\"delete OK\")\n"
      ],
      "metadata": {
        "id": "8XsfTI7rlfrO"
      },
      "id": "8XsfTI7rlfrO",
      "execution_count": null,
      "outputs": []
    },
    {
      "cell_type": "markdown",
      "source": [
        "* undo del delete -> vuelve \"Hola mundo\""
      ],
      "metadata": {
        "id": "PmtG4pVdmB2_"
      },
      "id": "PmtG4pVdmB2_"
    },
    {
      "cell_type": "code",
      "source": [
        "editor_undo(ed)\n",
        "if ed[\"buffer\"] != \"Hola mundo\":\n",
        "    fail(\"undo (delete) falló\")\n",
        "ok(\"undo delete OK\")\n"
      ],
      "metadata": {
        "id": "lNsRde9PlgFE"
      },
      "id": "lNsRde9PlgFE",
      "execution_count": null,
      "outputs": []
    },
    {
      "cell_type": "markdown",
      "source": [
        "* undo del type -> vuelve a 'Hola'"
      ],
      "metadata": {
        "id": "NurxaKxmmKRM"
      },
      "id": "NurxaKxmmKRM"
    },
    {
      "cell_type": "code",
      "source": [
        "editor_undo(ed)\n",
        "if ed[\"buffer\"] != \"Hola\":\n",
        "    fail(\"undo (type) falló\")\n",
        "ok(\"undo type OK\")\n"
      ],
      "metadata": {
        "id": "4JA3-GZKlghd"
      },
      "id": "4JA3-GZKlghd",
      "execution_count": null,
      "outputs": []
    },
    {
      "cell_type": "markdown",
      "source": [
        "* redo -> vuelve a 'Hola mundo'"
      ],
      "metadata": {
        "id": "pNdKyC0zmQVk"
      },
      "id": "pNdKyC0zmQVk"
    },
    {
      "cell_type": "code",
      "source": [
        "editor_redo(ed)\n",
        "if ed[\"buffer\"] != \"Hola mundo\":\n",
        "    fail(\"redo falló\")\n",
        "ok(\"redo OK\")\n",
        "\n",
        "print(\"✍️ Tests de Editor (versión sin OOP) completados.\")\n"
      ],
      "metadata": {
        "id": "bM_1Jc5Hlg8W"
      },
      "id": "bM_1Jc5Hlg8W",
      "execution_count": null,
      "outputs": []
    },
    {
      "cell_type": "markdown",
      "id": "4a63bbf0",
      "metadata": {
        "id": "4a63bbf0"
      },
      "source": [
        "\n",
        "---\n",
        "\n",
        "# Problema 3 — **TAD Queue (FIFO)**: Soporte Técnico (FCFS)\n",
        "\n",
        "---\n",
        "\n",
        "**Contexto**: una mesa de ayuda atiende tickets por orden de llegada (**First-Come, First-Served**).\n",
        "\n",
        "### Requisitos del TAD Queue (cola circular)\n",
        "- `enqueue(x)`, `dequeue()`, `front()`, `is_empty()`, `size()`\n",
        "- Implementar **buffer circular** para lograr O(1) amortizado y evitar desplazamientos.\n",
        "\n",
        "### Simulación\n",
        "Dada una lista de tickets (id, usuario, minuto_llegada, duracion_atencion), procesa los tickets en orden de llegada y calcular:\n",
        "- **Orden de atención** (id en el orden procesado).\n",
        "- **Tiempo de espera promedio** (simplemente, `t_inicio_atencion - minuto_llegada`).\n",
        "\n",
        "> Suponer un único agente que atiende de forma continua sin huecos entre atenciones.\n"
      ]
    },
    {
      "cell_type": "markdown",
      "source": [
        "* Crea una cola circular vacía con capacidad inicial >= 2"
      ],
      "metadata": {
        "id": "dZXmrA-epY01"
      },
      "id": "dZXmrA-epY01"
    },
    {
      "cell_type": "code",
      "execution_count": null,
      "id": "af7cbc62",
      "metadata": {
        "id": "af7cbc62"
      },
      "outputs": [],
      "source": [
        "def queue_new(cap=8):\n",
        "    cap = max(2, cap)\n",
        "    return {\"a\": [None]*cap, \"head\": 0, \"tail\": 0, \"n\": 0, \"cap\": cap}\n"
      ]
    },
    {
      "cell_type": "markdown",
      "source": [
        "* Duplica capacidad preservando el orden lógico"
      ],
      "metadata": {
        "id": "FkDYRIi-pwa5"
      },
      "id": "FkDYRIi-pwa5"
    },
    {
      "cell_type": "code",
      "source": [
        "def _queue_grow(Q):\n",
        "    # TODO\n",
        "    pass\n"
      ],
      "metadata": {
        "id": "65WvCM4Vo8BH"
      },
      "id": "65WvCM4Vo8BH",
      "execution_count": null,
      "outputs": []
    },
    {
      "cell_type": "markdown",
      "source": [
        "* Encola al final (tail). Crece si está llena. O(1) amortizado"
      ],
      "metadata": {
        "id": "iuCaOJbvp3Dr"
      },
      "id": "iuCaOJbvp3Dr"
    },
    {
      "cell_type": "code",
      "source": [
        "def queue_enqueue(Q, x):\n",
        "    # TODO\n",
        "    pass\n"
      ],
      "metadata": {
        "id": "sEIxNOF1o8q0"
      },
      "id": "sEIxNOF1o8q0",
      "execution_count": null,
      "outputs": []
    },
    {
      "cell_type": "markdown",
      "source": [
        "* Desencola desde head. Debe fallar (IndexError) si vacía"
      ],
      "metadata": {
        "id": "O_QCh7RAp_Lx"
      },
      "id": "O_QCh7RAp_Lx"
    },
    {
      "cell_type": "code",
      "source": [
        "def queue_dequeue(Q):\n",
        "    # TODO\n",
        "    pass\n"
      ],
      "metadata": {
        "id": "wkmPkFCjo9WH"
      },
      "id": "wkmPkFCjo9WH",
      "execution_count": null,
      "outputs": []
    },
    {
      "cell_type": "markdown",
      "source": [
        "* Retorna el elemento en head sin remover (o None si vacía)"
      ],
      "metadata": {
        "id": "G3WGLLwOqHeG"
      },
      "id": "G3WGLLwOqHeG"
    },
    {
      "cell_type": "code",
      "source": [
        "def queue_front(Q):\n",
        "    # TODO\n",
        "    pass\n"
      ],
      "metadata": {
        "id": "JGkb4EWfo-BC"
      },
      "id": "JGkb4EWfo-BC",
      "execution_count": null,
      "outputs": []
    },
    {
      "cell_type": "code",
      "source": [
        "def queue_is_empty(Q):\n",
        "    # TODO\n",
        "    pass\n"
      ],
      "metadata": {
        "id": "hr6qkhnqo-sv"
      },
      "id": "hr6qkhnqo-sv",
      "execution_count": null,
      "outputs": []
    },
    {
      "cell_type": "code",
      "source": [
        "def queue_size(Q):\n",
        "    # TODO\n",
        "    pass\n"
      ],
      "metadata": {
        "id": "oCXbUaOfo_Y4"
      },
      "id": "oCXbUaOfo_Y4",
      "execution_count": null,
      "outputs": []
    },
    {
      "cell_type": "markdown",
      "source": [
        "-------- Uso --------"
      ],
      "metadata": {
        "id": "Z66h1x0dqQDu"
      },
      "id": "Z66h1x0dqQDu"
    },
    {
      "cell_type": "markdown",
      "source": [
        "* (id, usuario, minuto_llegada, duracion_atencion)"
      ],
      "metadata": {
        "id": "1VIJ82H4qS4a"
      },
      "id": "1VIJ82H4qS4a"
    },
    {
      "cell_type": "code",
      "execution_count": null,
      "id": "fade424b",
      "metadata": {
        "id": "fade424b"
      },
      "outputs": [],
      "source": [
        "tickets = [\n",
        "\n",
        "    (101, \"ana\",   0, 5),\n",
        "    (102, \"benja\", 2, 3),\n",
        "    (103, \"caro\",  5, 4),\n",
        "    (104, \"diego\", 6, 2),\n",
        "]\n"
      ]
    },
    {
      "cell_type": "markdown",
      "source": [
        "* Procesa tickets por orden de llegada usando una Queue.\n",
        "  \n",
        "  Retorna: (orden_ids, espera_promedio)\n",
        "  \n",
        "  Sugerencia: ordenar por minuto_llegada, mantener 'minuto_actual', encolar y simular atención secuencial con queue_dequeue.\n",
        "    "
      ],
      "metadata": {
        "id": "Tt165W6dqppi"
      },
      "id": "Tt165W6dqppi"
    },
    {
      "cell_type": "code",
      "source": [
        "def simular_soporte(tickets):\n",
        "    # TODO\n",
        "    pass"
      ],
      "metadata": {
        "id": "elnGPxyhqa0t"
      },
      "id": "elnGPxyhqa0t",
      "execution_count": null,
      "outputs": []
    },
    {
      "cell_type": "markdown",
      "source": [
        "* Tests"
      ],
      "metadata": {
        "id": "u8DyOvJwq1Y9"
      },
      "id": "u8DyOvJwq1Y9"
    },
    {
      "cell_type": "code",
      "source": [
        "try:\n",
        "    orden_ids, espera_prom = simular_soporte(tickets)\n",
        "except Exception as e:\n",
        "    fail(f\"simulación falló: {e}\")\n",
        "\n",
        "if not isinstance(orden_ids, list):\n",
        "    fail(\"orden_ids debe ser lista\")\n",
        "if not isinstance(espera_prom, (int, float)):\n",
        "    fail(\"espera_prom debe ser numérico\")\n",
        "\n",
        "ok(\"Simulación de soporte: tipos de salida OK\")\n",
        "print(\"🧾 Simulación ejecutada (verifica coherencia de tiempos y orden).\")\n"
      ],
      "metadata": {
        "id": "CkgQfIHRqeBP"
      },
      "id": "CkgQfIHRqeBP",
      "execution_count": null,
      "outputs": []
    },
    {
      "cell_type": "markdown",
      "id": "ae2b93d6",
      "metadata": {
        "id": "ae2b93d6"
      },
      "source": [
        "\n",
        "---\n",
        "\n",
        "# Ejercicio Extra: Exploración breve de rendimiento\n",
        "\n",
        "---\n",
        "\n",
        "Ejecutar el siguiente experimento para **comparar** el tiempo de:\n",
        "\n",
        "- `append` vs `insert(0, x)` en la **lista** (dinámica de Python)\n",
        "- `push`/`pop` del **stack**\n",
        "- `enqueue`/`dequeue` de la **queue**\n",
        "\n",
        "No se busca precisión absoluta, solo una **intuición** de eficiencia.\n"
      ]
    },
    {
      "cell_type": "markdown",
      "source": [
        "* importar librería time"
      ],
      "metadata": {
        "id": "YDwMpF9uj-eZ"
      },
      "id": "YDwMpF9uj-eZ"
    },
    {
      "cell_type": "code",
      "source": [
        "import time"
      ],
      "metadata": {
        "id": "h5qc6oIsj-5-"
      },
      "id": "h5qc6oIsj-5-",
      "execution_count": null,
      "outputs": []
    },
    {
      "cell_type": "code",
      "source": [
        "def bench_list_append_insert(n=20000):\n",
        "    L = []\n",
        "    t0 = time.time()\n",
        "    for i in range(n):\n",
        "        L.append(i)\n",
        "    t1 = time.time()\n",
        "    for i in range(n):\n",
        "        L.insert(0, i)  # O(n) por operación\n",
        "    t2 = time.time()\n",
        "    return (t1 - t0), (t2 - t1)\n"
      ],
      "metadata": {
        "id": "ocezwKBkkFdi"
      },
      "id": "ocezwKBkkFdi",
      "execution_count": null,
      "outputs": []
    },
    {
      "cell_type": "code",
      "source": [
        "def bench_stack(n=20000):\n",
        "    S = Stack()\n",
        "    t0 = time.time()\n",
        "    for i in range(n):\n",
        "        S.push(i)\n",
        "    for i in range(n):\n",
        "        S.pop()\n",
        "    t1 = time.time()\n",
        "    return (t1 - t0)\n"
      ],
      "metadata": {
        "id": "7u0v_DxMkIL-"
      },
      "id": "7u0v_DxMkIL-",
      "execution_count": null,
      "outputs": []
    },
    {
      "cell_type": "code",
      "source": [
        "def bench_queue(n=20000):\n",
        "    Q = Queue()\n",
        "    t0 = time.time()\n",
        "    for i in range(n):\n",
        "        Q.enqueue(i)\n",
        "    for i in range(n):\n",
        "        Q.dequeue()\n",
        "    t1 = time.time()\n",
        "    return (t1 - t0)\n"
      ],
      "metadata": {
        "id": "HYEuPHdekKiy"
      },
      "id": "HYEuPHdekKiy",
      "execution_count": null,
      "outputs": []
    },
    {
      "cell_type": "markdown",
      "source": [
        "* ejecutar"
      ],
      "metadata": {
        "id": "mbpBvDAIkN-S"
      },
      "id": "mbpBvDAIkN-S"
    },
    {
      "cell_type": "code",
      "execution_count": null,
      "id": "605f8d10",
      "metadata": {
        "id": "605f8d10"
      },
      "outputs": [],
      "source": [
        "try:\n",
        "    t_append, t_insert0 = bench_list_append_insert(5000)\n",
        "    t_stack = bench_stack(5000)\n",
        "    t_queue = bench_queue(5000)\n",
        "    print(f\"Lista: append x5000 = {t_append:.4f}s | insert(0,·) x5000 = {t_insert0:.4f}s\")\n",
        "    print(f\"Stack: push+pop x5000 = {t_stack:.4f}s\")\n",
        "    print(f\"Queue: enqueue+dequeue x5000 = {t_queue:.4f}s\")\n",
        "except Exception as e:\n",
        "    print(\"Aún no puedes pasar este benchmark (implementa primero los TADs).\")\n",
        "    print(\"Detalle:\", e)\n"
      ]
    },
    {
      "cell_type": "markdown",
      "id": "dbbec1b8",
      "metadata": {
        "id": "dbbec1b8"
      },
      "source": [
        "\n",
        "---\n",
        "\n",
        "# Preguntas de reflexión\n",
        "\n",
        "---\n",
        "\n",
        "1. ¿Por qué un **stack** resulta natural para **deshacer/rehacer** y una **queue** para **atender**?\n",
        "2. Si la playlist requiere **búsquedas** frecuentes por texto, ¿agregaría otra estructura auxiliar? ¿Cuál?\n",
        "3. ¿Cuál es el **costo** (en operaciones) de `insert(0, x)` en una lista dinámica? ¿Cómo se compara con `append(x)`?\n",
        "4. ¿Qué **invariante** se rompería si se permitiera `pop()` sobre un stack vacío? ¿Cómo se previene?\n",
        "5. ¿Qué cambiaría si la mesa de ayuda tuviera **prioridades**? ¿Qué TAD se debería considerar en ese caso?\n"
      ]
    }
  ],
  "metadata": {
    "kernelspec": {
      "display_name": "Python 3",
      "language": "python",
      "name": "python3"
    },
    "language_info": {
      "name": "python",
      "version": "3.x"
    },
    "colab": {
      "provenance": [],
      "collapsed_sections": [
        "215454a7",
        "367717cb",
        "1e6ab3c9",
        "4a63bbf0",
        "ae2b93d6"
      ]
    }
  },
  "nbformat": 4,
  "nbformat_minor": 5
}